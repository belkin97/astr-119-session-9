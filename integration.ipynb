{
 "cells": [
  {
   "cell_type": "markdown",
   "id": "178fb5dd",
   "metadata": {},
   "source": [
    "# Implement different integration schemes"
   ]
  },
  {
   "cell_type": "code",
   "execution_count": 17,
   "id": "145b652b",
   "metadata": {},
   "outputs": [],
   "source": [
    "%matplotlib inline\n",
    "import numpy as np\n",
    "import matplotlib.pyplot as plt"
   ]
  },
  {
   "cell_type": "markdown",
   "id": "f9c73ea7",
   "metadata": {},
   "source": [
    "# define a function to integrate"
   ]
  },
  {
   "cell_type": "code",
   "execution_count": 18,
   "id": "74848db7",
   "metadata": {},
   "outputs": [],
   "source": [
    "def func(x):\n",
    "    a = 1.01\n",
    "    b = -3.04\n",
    "    c = 2.07\n",
    "    return a*x**2 + b*x + c"
   ]
  },
  {
   "cell_type": "markdown",
   "id": "4f79d927",
   "metadata": {},
   "source": [
    "#### define it's integral so we know the right answer"
   ]
  },
  {
   "cell_type": "code",
   "execution_count": 19,
   "id": "06f127ac",
   "metadata": {},
   "outputs": [],
   "source": [
    "def func_integral(x):\n",
    "    a = 1.01\n",
    "    b = -3.04\n",
    "    c = 2.07\n",
    "    return (a*x**3)/3. + (b*x**2)/2 + c*x"
   ]
  },
  {
   "cell_type": "markdown",
   "id": "8c767113",
   "metadata": {},
   "source": [
    "#### define core of trapezoid method"
   ]
  },
  {
   "cell_type": "code",
   "execution_count": 20,
   "id": "942654b7",
   "metadata": {},
   "outputs": [],
   "source": [
    "# (f,x,h) = (function, define where it evaluates, and the interval over which it evaluates)\n",
    "def trapezoid_core(f,x,h):\n",
    "    return 0.5*h*(f(x+h) + f(x))\n",
    "\n",
    "# we did the trapezoid method one time here\n",
    "# now we need to do it \"N\" times VVV"
   ]
  },
  {
   "cell_type": "markdown",
   "id": "d4fd8354",
   "metadata": {},
   "source": [
    "### define the wrapper function to perform the trapezoid method"
   ]
  },
  {
   "cell_type": "code",
   "execution_count": 25,
   "id": "354816e8",
   "metadata": {},
   "outputs": [],
   "source": [
    "def trapezoid_method(f,a,b,N):\n",
    "    #f == function to integrate\n",
    "    #a == lower limit of integration\n",
    "    #b == upper limit of integration\n",
    "    #N == number of intervals to use\n",
    "    \n",
    "    #define x values to perform the trapezoid rule\n",
    "    x = np.linspace(a,b,N) #creates an array from a to b with size N\n",
    "    h = x[1]-x[0]          #this is the width\n",
    "    \n",
    "    #define the value of the integral\n",
    "    Fint = 0.0\n",
    "    \n",
    "    #perform the integral using the\n",
    "    #trapezoid method\n",
    "    for i in range(0,len(x)-1,1): #will perform a loop between zero and stop at N - 2\n",
    "        Fint += trapezoid_core(f,x[i],h)\n",
    "        \n",
    "    \n",
    "    #return the answer\n",
    "    return Fint"
   ]
  },
  {
   "cell_type": "markdown",
   "id": "83aaf057",
   "metadata": {},
   "source": [
    "### define the core of simpson's method"
   ]
  },
  {
   "cell_type": "code",
   "execution_count": 30,
   "id": "f6b47641",
   "metadata": {},
   "outputs": [],
   "source": [
    "def simpsons_core(f,x,h):\n",
    "    return h*(f(x) + 4*f(x+h) + f(x+2*h))/3."
   ]
  },
  {
   "cell_type": "markdown",
   "id": "226b2116",
   "metadata": {},
   "source": [
    "### Define a wrapper for simpson's method"
   ]
  },
  {
   "cell_type": "code",
   "execution_count": 31,
   "id": "c4ff8ecc",
   "metadata": {},
   "outputs": [],
   "source": [
    "def simpsons_method(f,a,b,N):\n",
    "    #f == function to integrate\n",
    "    #a == lower limit of integration\n",
    "    #b == upper limit of integration\n",
    "    #N == number of intervals to use\n",
    "    #note the number of chunks will be N - 1\n",
    "    #so if N is off, then we don't need to\n",
    "    #adjust the last segment\n",
    "    \n",
    "    #define x values to perform the trapezoid rule\n",
    "    x = np.linspace(a,b,N) #creates an array from a to b with size N\n",
    "    h = x[1]-x[0]          #this is the width of a single interval of x_0 and x_1\n",
    "    \n",
    "    #define the value of the integral\n",
    "    Fint = 0.0\n",
    "    \n",
    "    #perform the integral using the\n",
    "    #simpson's method\n",
    "    for i in range(0,len(x)-2,2): #going by two chunks at a time\n",
    "        Fint += simpsons_core(f,x[i],h)\n",
    "        \n",
    "    #apply simpson's rule over the last\n",
    "    #interval if N is even\n",
    "    if((N%2)==0):\n",
    "        Fint += simpsons_core(f,x[-2],0.5*h)\n",
    "    \n",
    "    #return the answer\n",
    "    return Fint"
   ]
  },
  {
   "cell_type": "markdown",
   "id": "b0ed0c51",
   "metadata": {},
   "source": [
    "# Check our answer"
   ]
  },
  {
   "cell_type": "code",
   "execution_count": 32,
   "id": "e042e29b",
   "metadata": {},
   "outputs": [
    {
     "name": "stdout",
     "output_type": "stream",
     "text": [
      "0.8866666666666665\n",
      "Trapezoid\n",
      "0.888744855967078\n",
      "Simpson's Method\n",
      "0.8866666666666665\n"
     ]
    }
   ],
   "source": [
    "Answer = func_integral(1)-func_integral(0)\n",
    "print(Answer)\n",
    "print(\"Trapezoid\")\n",
    "print(trapezoid_method(func,0,1,10))\n",
    "print(\"Simpson's Method\") # Simpson's Method > Trapezoid Method\n",
    "print(simpsons_method(func,0,1,10))"
   ]
  },
  {
   "cell_type": "code",
   "execution_count": null,
   "id": "c3791281",
   "metadata": {},
   "outputs": [],
   "source": []
  }
 ],
 "metadata": {
  "kernelspec": {
   "display_name": "Python 3 (ipykernel)",
   "language": "python",
   "name": "python3"
  },
  "language_info": {
   "codemirror_mode": {
    "name": "ipython",
    "version": 3
   },
   "file_extension": ".py",
   "mimetype": "text/x-python",
   "name": "python",
   "nbconvert_exporter": "python",
   "pygments_lexer": "ipython3",
   "version": "3.9.7"
  }
 },
 "nbformat": 4,
 "nbformat_minor": 5
}
